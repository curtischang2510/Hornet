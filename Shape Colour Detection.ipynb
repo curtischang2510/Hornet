{
 "cells": [
  {
   "cell_type": "markdown",
   "id": "fac2d924",
   "metadata": {},
   "source": [
    "## Colour and shape detection \n",
    "# Overview \n",
    "- Colour detection is done first \n",
    "- This is followed up with Shape detection"
   ]
  },
  {
   "cell_type": "code",
   "execution_count": 1,
   "id": "666cdfb8",
   "metadata": {},
   "outputs": [],
   "source": [
    "import cv2 \n",
    "import numpy as np"
   ]
  },
  {
   "cell_type": "code",
   "execution_count": 2,
   "id": "83545ff2",
   "metadata": {},
   "outputs": [
    {
     "name": "stdout",
     "output_type": "stream",
     "text": [
      "BGR Value: [[[ 38   0 217]]]\n",
      "BGR Value: [[[ 40 120 255]]]\n",
      "HSV Value 1: [[[175 255 217]]]\n",
      "HSV Value 2: [[[ 11 215 255]]]\n",
      "Lower Limit: (28, 100, 100)\n",
      "Upper Limit (48, 255, 255)\n"
     ]
    }
   ],
   "source": [
    "# import required libraries\n",
    "import numpy as np\n",
    "import cv2\n",
    "red = np.uint8([[[40, 120, 255]]])\n",
    "\n",
    "# here insert the bgr values which you want to convert to hsv\n",
    "bgr2 = np.uint8([[[40,120,255]]])\n",
    "bgr = np.uint8([[[38,0,217]]])\n",
    "hsv = cv2.cvtColor(bgr, cv2.COLOR_BGR2HSV)\n",
    "hsv2 = cv2.cvtColor(bgr2, cv2.COLOR_BGR2HSV)\n",
    "print(\"BGR Value:\", bgr)\n",
    "print(\"BGR Value:\", bgr2)\n",
    "print(\"HSV Value 1:\", hsv)\n",
    "print(\"HSV Value 2:\", hsv2)\n",
    "\n",
    "# compute the lower and upper limits\n",
    "lowerLimit = bgr[0][0][0] - 10, 100, 100\n",
    "upperLimit = bgr[0][0][0] + 10, 255, 255\n",
    "\n",
    "# display the lower and upper limits\n",
    "print(\"Lower Limit:\",lowerLimit)\n",
    "print(\"Upper Limit\", upperLimit)"
   ]
  },
  {
   "cell_type": "code",
   "execution_count": 3,
   "id": "e5963cd9",
   "metadata": {},
   "outputs": [],
   "source": [
    "class ColorDetector: \n",
    "    def __init__(self): \n",
    "        pass\n",
    "    def detectColor(self, img): \n",
    "        hsv_img = cv2.cvtColor(img, cv2.COLOR_BGR2HSV)\n",
    "        lower_red = np.array([0, 100, 170])\n",
    "        upper_red = np.array([15, 255, 255])\n",
    "        \n",
    "        mask = cv2.inRange(hsv_img, lower_red, upper_red)\n",
    "        result = cv2.bitwise_and(img, img, mask = mask)\n",
    "        kernel = np.ones((10,10), np.uint8)\n",
    "        erosion = cv2.erode(result, kernel, iterations = 1)\n",
    "        dilation = cv2.dilate(erosion, kernel, iterations = 1)\n",
    "        \n",
    "        img_gray = cv2.cvtColor(dilation, cv2.COLOR_BGR2GRAY) #convert the image to grayscale, this is a requirement bfr thresholding\n",
    "        _, thresh = cv2.threshold(img_gray, 70, 255, cv2.THRESH_BINARY)\n",
    "        contours, hierarchy = cv2.findContours(thresh, cv2.RETR_LIST, cv2.CHAIN_APPROX_SIMPLE)\n",
    "        \n",
    "        img_contours = cv2.drawContours(img, contours, -1 , (0, 255, 0), 3) #green contours\n",
    "        for c in contours: \n",
    "            rect = cv2.boundingRect(c)\n",
    "            x, y, w, h = rect \n",
    "            cv2.rectangle(img, (x, y), (x + w, y + h), (255, 0, 0), 3)\n",
    "        return img, contours\n",
    "        "
   ]
  },
  {
   "cell_type": "code",
   "execution_count": 4,
   "id": "6bdc7072",
   "metadata": {},
   "outputs": [],
   "source": [
    "# img = cv2.imread('soccerballs.png') \n",
    "# s = ColorDetector()\n",
    "# final_img, contours = s.detectColor(img)\n",
    "\n",
    "# #classified_img = contour_loop(contours, final_img)\n",
    "# cv2.imshow('Image',final_img)\n",
    "# cv2.waitKey(0)\n",
    "# cv2.destroyAllWindows()"
   ]
  },
  {
   "cell_type": "code",
   "execution_count": 5,
   "id": "05524401",
   "metadata": {},
   "outputs": [],
   "source": [
    "class ShapeDetector: \n",
    "    def __init__(self):\n",
    "        pass \n",
    "    def detect(self, c): \n",
    "        shape = \"unidentified\"\n",
    "        peri = cv2.arcLength(c, True)\n",
    "        approx = cv2.approxPolyDP(c, 0.04 * peri, True)\n",
    "        # if the shape is a triangle, it will have 3 vertices\n",
    "        if len(approx) == 3:\n",
    "            shape = \"triangle\"\n",
    "        # if the shape has 4 vertices, it is either a square or\n",
    "        # a rectangle\n",
    "        elif len(approx) == 4:\n",
    "            # compute the bounding box of the contour and use the\n",
    "            # bounding box to compute the aspect ratio\n",
    "            (x, y, w, h) = cv2.boundingRect(approx)\n",
    "            ar = w / float(h)\n",
    "            # a square will have an aspect ratio that is approximately\n",
    "            # equal to one, otherwise, the shape is a rectangle\n",
    "            shape = \"square\" if ar >= 0.95 and ar <= 1.05 else \"rectangle\"\n",
    "        # if the shape is a pentagon, it will have 5 vertices\n",
    "        elif len(approx) == 5:\n",
    "            shape = \"pentagon\"\n",
    "        # otherwise, we assume the shape is a circle\n",
    "        else:\n",
    "            shape = \"circle\"\n",
    "        # return the name of the shape\n",
    "        return shape"
   ]
  },
  {
   "cell_type": "code",
   "execution_count": 6,
   "id": "d5bfc396",
   "metadata": {},
   "outputs": [],
   "source": [
    "# Define a function to calculate the distance between two points\n",
    "def calculate_distance(point1, point2):\n",
    "    return ((point1[0] - point2[0]) ** 2 + (point1[1] - point2[1]) ** 2) ** 0.5\n",
    "\n",
    "def contour_loop(contour, image):\n",
    "    sd = ShapeDetector()\n",
    "    print(len(contour))\n",
    "    Arr = []\n",
    "    \n",
    "    for c in contour:\n",
    "        # These 3 lines find the (x,y) for the centre of an object\n",
    "        M = cv2.moments(c)\n",
    "        cX = int(M[\"m10\"] / M[\"m00\"])\n",
    "        cY = int(M[\"m01\"] / M[\"m00\"])\n",
    "        \n",
    "        # Check if the new (cX, cY) is within a 10-pixel radius of any point in Arr\n",
    "        is_duplicate = False\n",
    "        for point in Arr:\n",
    "            if calculate_distance((cX, cY), point) < 10:\n",
    "                is_duplicate = True\n",
    "                break\n",
    "\n",
    "        if not is_duplicate:\n",
    "            Arr.append((cX, cY))\n",
    "            shape = sd.detect(c)\n",
    "            print(shape)\n",
    "            cv2.putText(image, shape, (cX, cY), cv2.FONT_HERSHEY_SIMPLEX, 0.5, (0, 0, 0), 2)\n",
    "\n",
    "    return image"
   ]
  },
  {
   "cell_type": "code",
   "execution_count": null,
   "id": "eab11eb8",
   "metadata": {},
   "outputs": [
    {
     "name": "stdout",
     "output_type": "stream",
     "text": [
      "4\n",
      "circle\n",
      "[(135, 200)]\n"
     ]
    }
   ],
   "source": [
    "img = cv2.imread('soccerballs.png') \n",
    "s = ColorDetector()\n",
    "final_img, contours = s.detectColor(img)\n",
    "\n",
    "classified_img = contour_loop(contours, final_img)\n",
    "cv2.imshow('Image',final_img)\n",
    "cv2.waitKey(0)\n",
    "cv2.destroyAllWindows()"
   ]
  },
  {
   "cell_type": "code",
   "execution_count": null,
   "id": "d8474cec",
   "metadata": {},
   "outputs": [],
   "source": []
  }
 ],
 "metadata": {
  "kernelspec": {
   "display_name": "Python 3 (ipykernel)",
   "language": "python",
   "name": "python3"
  },
  "language_info": {
   "codemirror_mode": {
    "name": "ipython",
    "version": 3
   },
   "file_extension": ".py",
   "mimetype": "text/x-python",
   "name": "python",
   "nbconvert_exporter": "python",
   "pygments_lexer": "ipython3",
   "version": "3.11.4"
  }
 },
 "nbformat": 4,
 "nbformat_minor": 5
}
